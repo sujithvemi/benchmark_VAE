{
 "cells": [
  {
   "cell_type": "code",
   "execution_count": 1,
   "id": "b007c757-f02d-4c27-9b61-948fced3e149",
   "metadata": {},
   "outputs": [
    {
     "name": "stderr",
     "output_type": "stream",
     "text": [
      "/usr/lib/python3/dist-packages/torchvision/io/image.py:13: UserWarning: Failed to load image Python extension: '/usr/lib/python3/dist-packages/torchvision/image.so: undefined symbol: _ZN3c1017RegisterOperatorsD1Ev'If you don't plan on using image functionality from `torchvision.io`, you can ignore this warning. Otherwise, there might be something wrong with your environment. Did you have `libjpeg` or `libpng` installed before building `torchvision` from source?\n",
      "  warn(\n",
      "/usr/lib/python3/dist-packages/scipy/__init__.py:146: UserWarning: A NumPy version >=1.17.3 and <1.25.0 is required for this version of SciPy (detected version 1.25.2\n",
      "  warnings.warn(f\"A NumPy version >={np_minversion} and <{np_maxversion}\"\n"
     ]
    }
   ],
   "source": [
    "import argparse\n",
    "import logging\n",
    "import os\n",
    "import time\n",
    "\n",
    "import torch\n",
    "import torch.nn as nn\n",
    "from PIL import Image\n",
    "from torch.utils.data import Dataset\n",
    "from torchvision import transforms\n",
    "import numpy as np\n",
    "\n",
    "from pythae.data.datasets import DatasetOutput\n",
    "from pythae.models import VQVAE, VQVAEConfig, VAEConfig, VAE\n",
    "from pythae.models.base.base_utils import ModelOutput\n",
    "from pythae.models.nn.base_architectures import BaseDecoder, BaseEncoder\n",
    "from pythae.models.nn.benchmarks.utils import ResBlock\n",
    "from pythae.trainers import BaseTrainer, BaseTrainerConfig\n",
    "from sklearn.model_selection import train_test_split\n",
    "\n",
    "import matplotlib.pyplot as plt\n",
    "\n",
    "logger = logging.getLogger(__name__)\n",
    "console = logging.StreamHandler()\n",
    "logger.addHandler(console)\n",
    "logger.setLevel(logging.INFO)\n",
    "\n",
    "PATH = os.path.dirname(os.path.abspath(\".\"))\n",
    "\n",
    "%matplotlib inline\n",
    "%load_ext autoreload\n",
    "%autoreload 2"
   ]
  },
  {
   "cell_type": "raw",
   "id": "a885babd-f596-4f34-a5e8-c39b8cc90a6e",
   "metadata": {},
   "source": [
    "class Encoder_ResNet_VQVAE_new_dSprites(BaseEncoder):\n",
    "    def __init__(self, args):\n",
    "        BaseEncoder.__init__(self)\n",
    "\n",
    "        self.latent_dim = args.latent_dim\n",
    "        self.n_channels = 1\n",
    "\n",
    "        self.layers = nn.Sequential(\n",
    "            nn.Conv2d(self.n_channels, 32, 4, 2, padding=1),\n",
    "            nn.BatchNorm2d(32),\n",
    "            nn.Conv2d(32, 64, 4, 2, padding=1),\n",
    "            nn.BatchNorm2d(64),\n",
    "            nn.Conv2d(64, 128, 4, 2, padding=1),\n",
    "            nn.BatchNorm2d(128),\n",
    "            nn.Conv2d(128, 256, 4, 2, padding=1),\n",
    "            nn.BatchNorm2d(256),\n",
    "            nn.Conv2d(256, 256, 4, 2, padding=1),\n",
    "            nn.BatchNorm2d(256),\n",
    "            ResBlock(in_channels=256, out_channels=64),\n",
    "            ResBlock(in_channels=256, out_channels=64),\n",
    "            ResBlock(in_channels=256, out_channels=64),\n",
    "            ResBlock(in_channels=256, out_channels=64),\n",
    "            ResBlock(in_channels=256, out_channels=64),\n",
    "        )\n",
    "\n",
    "        self.pre_qantized = nn.Conv2d(256, self.latent_dim, 1, 1)\n",
    "\n",
    "    def forward(self, x: torch.Tensor):\n",
    "        output = ModelOutput()\n",
    "        out = x\n",
    "        out = self.layers(out)\n",
    "        output[\"embedding\"] = self.pre_qantized(out)\n",
    "\n",
    "        return output"
   ]
  },
  {
   "cell_type": "raw",
   "id": "131ca9e0-bbaf-47f5-af45-43e8e1b661f4",
   "metadata": {},
   "source": [
    "class Decoder_ResNet_new_dSprites(BaseDecoder):\n",
    "    def __init__(self, args):\n",
    "        BaseDecoder.__init__(self)\n",
    "\n",
    "        self.latent_dim = args.latent_dim\n",
    "        self.n_channels = 1\n",
    "\n",
    "        self.dequantize = nn.ConvTranspose2d(self.latent_dim, 256, 1, 1)\n",
    "\n",
    "        self.layers = nn.Sequential(\n",
    "            ResBlock(in_channels=256, out_channels=64),\n",
    "            ResBlock(in_channels=256, out_channels=64),\n",
    "            ResBlock(in_channels=256, out_channels=64),\n",
    "            ResBlock(in_channels=256, out_channels=64),\n",
    "            ResBlock(in_channels=256, out_channels=64),\n",
    "            nn.ConvTranspose2d(256, 256, 4, 2, padding=1),\n",
    "            # nn.BatchNorm2d(256),\n",
    "            nn.ConvTranspose2d(256, 128, 4, 2, padding=1),\n",
    "            # nn.BatchNorm2d(128),\n",
    "            nn.ConvTranspose2d(128, 64, 4, 2, padding=1),\n",
    "            # nn.BatchNorm2d(64),\n",
    "            nn.ConvTranspose2d(64, 32, 4, 2, padding=1),\n",
    "            # nn.BatchNorm2d(32),\n",
    "            nn.ConvTranspose2d(32, self.n_channels, 4, 2, padding=1),\n",
    "            nn.Sigmoid(),\n",
    "        )\n",
    "\n",
    "    def forward(self, z: torch.Tensor):\n",
    "        output = ModelOutput()\n",
    "\n",
    "        out = self.dequantize(z)\n",
    "        output[\"reconstruction\"] = self.layers(out)\n",
    "\n",
    "        return output"
   ]
  },
  {
   "cell_type": "code",
   "execution_count": 2,
   "id": "75588234-5c01-4f15-878e-65a23a8409e7",
   "metadata": {},
   "outputs": [],
   "source": [
    "class Encoder_Conv_VAE_new_dSprites(BaseEncoder):\n",
    "    def __init__(self, args):\n",
    "        BaseEncoder.__init__(self)\n",
    "\n",
    "        self.input_dim = (1, 256, 256)\n",
    "        self.latent_dim = args.latent_dim\n",
    "        self.n_channels = 1\n",
    "\n",
    "        self.conv_layers = nn.Sequential(\n",
    "            nn.Conv2d(self.n_channels, 32, 4, 2, padding=1),\n",
    "            nn.BatchNorm2d(32),\n",
    "            nn.ReLU(),\n",
    "            nn.Conv2d(32, 32, 4, 2, padding=1),\n",
    "            nn.BatchNorm2d(32),\n",
    "            nn.ReLU(),\n",
    "            nn.Conv2d(32, 64, 4, 2, padding=1),\n",
    "            nn.BatchNorm2d(64),\n",
    "            nn.ReLU(),\n",
    "            nn.Conv2d(64, 128, 4, 2, padding=1),\n",
    "            nn.BatchNorm2d(128),\n",
    "            nn.ReLU(),\n",
    "            nn.Conv2d(128, 128, 4, 2, padding=1),\n",
    "            nn.BatchNorm2d(128),\n",
    "            nn.ReLU(),\n",
    "            nn.Conv2d(128, 256, 4, 2, padding=1),\n",
    "            nn.BatchNorm2d(256),\n",
    "            nn.ReLU(),\n",
    "            nn.Conv2d(256, 256, 4, 2, padding=1),\n",
    "            nn.BatchNorm2d(256),\n",
    "            nn.ReLU(),\n",
    "        )\n",
    "\n",
    "        self.embedding = nn.Linear(1024, args.latent_dim)\n",
    "        self.log_var = nn.Linear(1024, args.latent_dim)\n",
    "\n",
    "    def forward(self, x: torch.Tensor):\n",
    "        h1 = self.conv_layers(x).reshape(x.shape[0], -1)\n",
    "        output = ModelOutput(\n",
    "            embedding=self.embedding(h1),\n",
    "            log_covariance=self.log_var(h1)\n",
    "        )\n",
    "        return output"
   ]
  },
  {
   "cell_type": "code",
   "execution_count": 3,
   "id": "4ae47636-acef-4504-ad35-a617f2ae26e2",
   "metadata": {},
   "outputs": [],
   "source": [
    "class Decoder_Conv_AE_new_dSprites(BaseDecoder):\n",
    "    def __init__(self, args):\n",
    "        BaseDecoder.__init__(self)\n",
    "        self.input_dim = (1, 256, 256)\n",
    "        self.latent_dim = args.latent_dim\n",
    "        self.n_channels = 1\n",
    "\n",
    "        self.fc = nn.Linear(args.latent_dim, 256 * 2 * 2)\n",
    "        self.deconv_layers = nn.Sequential(\n",
    "            nn.ConvTranspose2d(256, 256, 4, 2, padding=1),\n",
    "            nn.BatchNorm2d(256),\n",
    "            nn.ReLU(),\n",
    "            nn.ConvTranspose2d(256, 128, 4, 2, padding=1),\n",
    "            nn.BatchNorm2d(128),\n",
    "            nn.ReLU(),\n",
    "            nn.ConvTranspose2d(128, 128, 4, 2, padding=1),\n",
    "            nn.BatchNorm2d(128),\n",
    "            nn.ReLU(),\n",
    "            nn.ConvTranspose2d(128, 64, 4, 2, padding=1),\n",
    "            nn.BatchNorm2d(64),\n",
    "            nn.ReLU(),\n",
    "            nn.ConvTranspose2d(64, 64, 4, 2, padding=1),\n",
    "            nn.BatchNorm2d(64),\n",
    "            nn.ReLU(),\n",
    "            nn.ConvTranspose2d(64, 32, 4, 2, padding=1),\n",
    "            nn.BatchNorm2d(32),\n",
    "            nn.ReLU(),\n",
    "            nn.ConvTranspose2d(32, self.n_channels, 4, 2, padding=1),\n",
    "            nn.Sigmoid(),\n",
    "        )\n",
    "\n",
    "    def forward(self, z: torch.Tensor):\n",
    "        h1 = self.fc(z).reshape(z.shape[0], 256, 2, 2)\n",
    "        output = ModelOutput(reconstruction=self.deconv_layers(h1))\n",
    "\n",
    "        return output"
   ]
  },
  {
   "cell_type": "code",
   "execution_count": 4,
   "id": "20fd3106-d618-4fb5-a21d-45f686dd9c3d",
   "metadata": {},
   "outputs": [],
   "source": [
    "class NewDSprites(Dataset):\n",
    "    def __init__(self, data_file_path=None, transforms=None):\n",
    "        self.imgs_arr = np.load(data_file_path, allow_pickle=True)[\"imgs\"]\n",
    "        # if is_train:\n",
    "        #     self.imgs_arr = self.imgs_arr[train_idxs, :]\n",
    "        # else:\n",
    "        #     self.imgs_path = self.imgs_path[60000:]\n",
    "        self.transforms = transforms\n",
    "\n",
    "    def __len__(self):\n",
    "        return len(self.imgs_arr)\n",
    "\n",
    "    def __getitem__(self, idx):\n",
    "        img = np.expand_dims(self.imgs_arr[idx, :, :], axis=-1)\n",
    "        if self.transforms is not None:\n",
    "            img = self.transforms(img)\n",
    "        return DatasetOutput(data=img)"
   ]
  },
  {
   "cell_type": "code",
   "execution_count": 5,
   "id": "b878666f-7b62-47ea-ba1a-6bcfe75eebdf",
   "metadata": {},
   "outputs": [],
   "source": [
    "img_transforms = transforms.Compose([transforms.ToTensor()])\n",
    "\n",
    "dataset = NewDSprites(\n",
    "    data_file_path=\"../../data/new_dSprites_256x256.npz\",\n",
    "    transforms=img_transforms,\n",
    ")"
   ]
  },
  {
   "cell_type": "raw",
   "id": "16c776b2-f3d6-476e-aaa3-0f394e8382d0",
   "metadata": {},
   "source": [
    "train_dataset = NewDSprites(\n",
    "    data_file_path=\"../../data/new_dSprites_256x256_train.npz\",\n",
    "    # is_train=True,\n",
    "    transforms=img_transforms,\n",
    ")"
   ]
  },
  {
   "cell_type": "raw",
   "id": "9b6ee401-ddc9-425a-a2d9-0414d2b28706",
   "metadata": {},
   "source": [
    "eval_dataset = NewDSprites(\n",
    "    data_file_path=\"../../data/new_dSprites_256x256_val.npz\",\n",
    "    # is_train=False,\n",
    "    transforms=img_transforms,\n",
    ")"
   ]
  },
  {
   "cell_type": "raw",
   "id": "db732df8-6656-4351-af2b-de57d009631d",
   "metadata": {},
   "source": [
    "model_config = VQVAEConfig(\n",
    "    input_dim=(1, 256, 256), latent_dim=10, use_ema=True, num_embeddings=256\n",
    ")"
   ]
  },
  {
   "cell_type": "code",
   "execution_count": 6,
   "id": "baf7b27f-72c7-4d23-8339-5ad673aceb3c",
   "metadata": {},
   "outputs": [],
   "source": [
    "model_config = VAEConfig(\n",
    "    input_dim=(1, 256, 256), latent_dim=10\n",
    ")"
   ]
  },
  {
   "cell_type": "raw",
   "id": "9014354d-086e-49e6-bf9a-402f22d98f26",
   "metadata": {},
   "source": [
    "encoder = Encoder_ResNet_VQVAE_new_dSprites(model_config)\n",
    "decoder = Decoder_ResNet_new_dSprites(model_config)"
   ]
  },
  {
   "cell_type": "code",
   "execution_count": 7,
   "id": "5a2ce5ab-0eae-4a05-a836-e27d6e72f7da",
   "metadata": {},
   "outputs": [],
   "source": [
    "encoder = Encoder_Conv_VAE_new_dSprites(model_config)\n",
    "decoder = Decoder_Conv_AE_new_dSprites(model_config)"
   ]
  },
  {
   "cell_type": "raw",
   "id": "ce1d04f2-b501-46e8-8f89-dab4c4d15044",
   "metadata": {},
   "source": [
    "model = VQVAE(model_config=model_config, encoder=encoder, decoder=decoder)"
   ]
  },
  {
   "cell_type": "code",
   "execution_count": 8,
   "id": "fd883b16-9cc1-4538-8982-3aeaf74e0780",
   "metadata": {},
   "outputs": [],
   "source": [
    "model = VAE(model_config=model_config, encoder=encoder, decoder=decoder)"
   ]
  },
  {
   "cell_type": "code",
   "execution_count": 9,
   "id": "6f0ffc7b-65e0-45de-84d2-d93491883568",
   "metadata": {},
   "outputs": [
    {
     "data": {
      "text/plain": [
       "VAE(\n",
       "  (decoder): Decoder_Conv_AE_new_dSprites(\n",
       "    (fc): Linear(in_features=10, out_features=1024, bias=True)\n",
       "    (deconv_layers): Sequential(\n",
       "      (0): ConvTranspose2d(256, 256, kernel_size=(4, 4), stride=(2, 2), padding=(1, 1))\n",
       "      (1): BatchNorm2d(256, eps=1e-05, momentum=0.1, affine=True, track_running_stats=True)\n",
       "      (2): ReLU()\n",
       "      (3): ConvTranspose2d(256, 128, kernel_size=(4, 4), stride=(2, 2), padding=(1, 1))\n",
       "      (4): BatchNorm2d(128, eps=1e-05, momentum=0.1, affine=True, track_running_stats=True)\n",
       "      (5): ReLU()\n",
       "      (6): ConvTranspose2d(128, 128, kernel_size=(4, 4), stride=(2, 2), padding=(1, 1))\n",
       "      (7): BatchNorm2d(128, eps=1e-05, momentum=0.1, affine=True, track_running_stats=True)\n",
       "      (8): ReLU()\n",
       "      (9): ConvTranspose2d(128, 64, kernel_size=(4, 4), stride=(2, 2), padding=(1, 1))\n",
       "      (10): BatchNorm2d(64, eps=1e-05, momentum=0.1, affine=True, track_running_stats=True)\n",
       "      (11): ReLU()\n",
       "      (12): ConvTranspose2d(64, 64, kernel_size=(4, 4), stride=(2, 2), padding=(1, 1))\n",
       "      (13): BatchNorm2d(64, eps=1e-05, momentum=0.1, affine=True, track_running_stats=True)\n",
       "      (14): ReLU()\n",
       "      (15): ConvTranspose2d(64, 32, kernel_size=(4, 4), stride=(2, 2), padding=(1, 1))\n",
       "      (16): BatchNorm2d(32, eps=1e-05, momentum=0.1, affine=True, track_running_stats=True)\n",
       "      (17): ReLU()\n",
       "      (18): ConvTranspose2d(32, 1, kernel_size=(4, 4), stride=(2, 2), padding=(1, 1))\n",
       "      (19): Sigmoid()\n",
       "    )\n",
       "  )\n",
       "  (encoder): Encoder_Conv_VAE_new_dSprites(\n",
       "    (conv_layers): Sequential(\n",
       "      (0): Conv2d(1, 32, kernel_size=(4, 4), stride=(2, 2), padding=(1, 1))\n",
       "      (1): BatchNorm2d(32, eps=1e-05, momentum=0.1, affine=True, track_running_stats=True)\n",
       "      (2): ReLU()\n",
       "      (3): Conv2d(32, 32, kernel_size=(4, 4), stride=(2, 2), padding=(1, 1))\n",
       "      (4): BatchNorm2d(32, eps=1e-05, momentum=0.1, affine=True, track_running_stats=True)\n",
       "      (5): ReLU()\n",
       "      (6): Conv2d(32, 64, kernel_size=(4, 4), stride=(2, 2), padding=(1, 1))\n",
       "      (7): BatchNorm2d(64, eps=1e-05, momentum=0.1, affine=True, track_running_stats=True)\n",
       "      (8): ReLU()\n",
       "      (9): Conv2d(64, 128, kernel_size=(4, 4), stride=(2, 2), padding=(1, 1))\n",
       "      (10): BatchNorm2d(128, eps=1e-05, momentum=0.1, affine=True, track_running_stats=True)\n",
       "      (11): ReLU()\n",
       "      (12): Conv2d(128, 128, kernel_size=(4, 4), stride=(2, 2), padding=(1, 1))\n",
       "      (13): BatchNorm2d(128, eps=1e-05, momentum=0.1, affine=True, track_running_stats=True)\n",
       "      (14): ReLU()\n",
       "      (15): Conv2d(128, 256, kernel_size=(4, 4), stride=(2, 2), padding=(1, 1))\n",
       "      (16): BatchNorm2d(256, eps=1e-05, momentum=0.1, affine=True, track_running_stats=True)\n",
       "      (17): ReLU()\n",
       "      (18): Conv2d(256, 256, kernel_size=(4, 4), stride=(2, 2), padding=(1, 1))\n",
       "      (19): BatchNorm2d(256, eps=1e-05, momentum=0.1, affine=True, track_running_stats=True)\n",
       "      (20): ReLU()\n",
       "    )\n",
       "    (embedding): Linear(in_features=1024, out_features=10, bias=True)\n",
       "    (log_var): Linear(in_features=1024, out_features=10, bias=True)\n",
       "  )\n",
       ")"
      ]
     },
     "execution_count": 9,
     "metadata": {},
     "output_type": "execute_result"
    }
   ],
   "source": [
    "model"
   ]
  },
  {
   "cell_type": "code",
   "execution_count": 10,
   "id": "197989fe-1e5f-443f-a0c1-8ad5e054041c",
   "metadata": {},
   "outputs": [],
   "source": [
    "training_config = BaseTrainerConfig(\n",
    "    output_dir='conv_vae_new_dSprites_v1',\n",
    "    # train_dataloader_num_workers=8,\n",
    "    # eval_dataloader_num_workers=8,\n",
    "    learning_rate=1e-4,\n",
    "    per_device_train_batch_size=128,\n",
    "    per_device_eval_batch_size=128,\n",
    "    steps_saving=None,\n",
    "    # no_cuda=False,\n",
    "    num_epochs=50)"
   ]
  },
  {
   "cell_type": "code",
   "execution_count": 11,
   "id": "2af65b7e-fbec-4e64-bbe8-902dc2862e62",
   "metadata": {},
   "outputs": [
    {
     "name": "stderr",
     "output_type": "stream",
     "text": [
      "\u001b[34m\u001b[1mwandb\u001b[0m: Currently logged in as: \u001b[33msujithvemi\u001b[0m (\u001b[33msujithvemi-Synechron\u001b[0m). Use \u001b[1m`wandb login --relogin`\u001b[0m to force relogin\n"
     ]
    },
    {
     "data": {
      "text/html": [
       "Tracking run with wandb version 0.17.4"
      ],
      "text/plain": [
       "<IPython.core.display.HTML object>"
      ]
     },
     "metadata": {},
     "output_type": "display_data"
    },
    {
     "data": {
      "text/html": [
       "Run data is saved locally in <code>/home/ubuntu/projects/multimodal_fov_robustness_test/benchmark_VAE/examples/notebooks/wandb/run-20240719_135456-r3w6x2uv</code>"
      ],
      "text/plain": [
       "<IPython.core.display.HTML object>"
      ]
     },
     "metadata": {},
     "output_type": "display_data"
    },
    {
     "data": {
      "text/html": [
       "Syncing run <strong><a href='https://wandb.ai/sujithvemi-Synechron/multimodal_llm_robustness_exp/runs/r3w6x2uv' target=\"_blank\">desert-pond-13</a></strong> to <a href='https://wandb.ai/sujithvemi-Synechron/multimodal_llm_robustness_exp' target=\"_blank\">Weights & Biases</a> (<a href='https://wandb.me/run' target=\"_blank\">docs</a>)<br/>"
      ],
      "text/plain": [
       "<IPython.core.display.HTML object>"
      ]
     },
     "metadata": {},
     "output_type": "display_data"
    },
    {
     "data": {
      "text/html": [
       " View project at <a href='https://wandb.ai/sujithvemi-Synechron/multimodal_llm_robustness_exp' target=\"_blank\">https://wandb.ai/sujithvemi-Synechron/multimodal_llm_robustness_exp</a>"
      ],
      "text/plain": [
       "<IPython.core.display.HTML object>"
      ]
     },
     "metadata": {},
     "output_type": "display_data"
    },
    {
     "data": {
      "text/html": [
       " View run at <a href='https://wandb.ai/sujithvemi-Synechron/multimodal_llm_robustness_exp/runs/r3w6x2uv' target=\"_blank\">https://wandb.ai/sujithvemi-Synechron/multimodal_llm_robustness_exp/runs/r3w6x2uv</a>"
      ],
      "text/plain": [
       "<IPython.core.display.HTML object>"
      ]
     },
     "metadata": {},
     "output_type": "display_data"
    }
   ],
   "source": [
    "from pythae.trainers.training_callbacks import WandbCallback\n",
    "\n",
    "callbacks = []\n",
    "wandb_cb = WandbCallback()\n",
    "wandb_cb.setup(\n",
    "    training_config,\n",
    "    model_config=model_config,\n",
    "    project_name=\"multimodal_llm_robustness_exp\",\n",
    "    entity_name=\"sujithvemi-Synechron\",\n",
    ")\n",
    "\n",
    "callbacks.append(wandb_cb)"
   ]
  },
  {
   "cell_type": "raw",
   "id": "546c8444-c24b-4e09-8a93-56d82b9b867f",
   "metadata": {},
   "source": [
    "trainer = BaseTrainer(\n",
    "    model=model,\n",
    "    train_dataset=train_dataset,\n",
    "    eval_dataset=eval_dataset,\n",
    "    training_config=training_config,\n",
    "    callbacks=callbacks,\n",
    ")"
   ]
  },
  {
   "cell_type": "raw",
   "id": "928ce535-8f20-419d-ab63-5ed573853530",
   "metadata": {
    "scrolled": true
   },
   "source": [
    "start_time = time.time()\n",
    "\n",
    "trainer.train()\n",
    "\n",
    "end_time = time.time()\n",
    "\n",
    "logger.info(f\"Total execution time: {(end_time - start_time)} seconds\")"
   ]
  },
  {
   "cell_type": "code",
   "execution_count": 12,
   "id": "62f4fac7-9d11-417c-992f-e3188dd84970",
   "metadata": {},
   "outputs": [],
   "source": [
    "from pythae.pipelines import TrainingPipeline\n",
    "pipeline = TrainingPipeline(\n",
    "model=model,\n",
    "training_config=training_config)"
   ]
  },
  {
   "cell_type": "raw",
   "id": "d48232dd-9ffd-4b04-8a85-5ee2d817838d",
   "metadata": {
    "scrolled": true
   },
   "source": [
    "pipeline(\n",
    "    train_data=dataset,\n",
    "    callbacks=callbacks\n",
    ")"
   ]
  },
  {
   "cell_type": "code",
   "execution_count": 9,
   "id": "b0ac8b55-87f0-420e-a9d8-aa2d523c64f4",
   "metadata": {},
   "outputs": [
    {
     "name": "stdout",
     "output_type": "stream",
     "text": [
      "VAE_training_2024-07-20_08-54-53\n"
     ]
    }
   ],
   "source": [
    "last_training = sorted(os.listdir('conv_vae_new_dSprites_v2'))[-1]\n",
    "print(last_training)"
   ]
  },
  {
   "cell_type": "code",
   "execution_count": 33,
   "id": "702bb6c6-1493-4e01-ab7e-3c08a4984c70",
   "metadata": {},
   "outputs": [
    {
     "data": {
      "text/plain": [
       "VAE(\n",
       "  (decoder): Decoder_Conv_AE_new_dSprites(\n",
       "    (fc1): Sequential(\n",
       "      (0): Linear(in_features=10, out_features=256, bias=True)\n",
       "      (1): BatchNorm1d(256, eps=1e-05, momentum=0.1, affine=True, track_running_stats=True)\n",
       "      (2): PReLU(num_parameters=1)\n",
       "    )\n",
       "    (fc2): Sequential(\n",
       "      (0): Linear(in_features=256, out_features=512, bias=True)\n",
       "      (1): BatchNorm1d(512, eps=1e-05, momentum=0.1, affine=True, track_running_stats=True)\n",
       "      (2): PReLU(num_parameters=1)\n",
       "    )\n",
       "    (deconv_layers): Sequential(\n",
       "      (0): ConvTranspose2d(512, 256, kernel_size=(2, 2), stride=(1, 1))\n",
       "      (1): BatchNorm2d(256, eps=1e-05, momentum=0.1, affine=True, track_running_stats=True)\n",
       "      (2): PReLU(num_parameters=1)\n",
       "      (3): ConvTranspose2d(256, 256, kernel_size=(4, 4), stride=(2, 2), padding=(1, 1))\n",
       "      (4): BatchNorm2d(256, eps=1e-05, momentum=0.1, affine=True, track_running_stats=True)\n",
       "      (5): PReLU(num_parameters=1)\n",
       "      (6): ConvTranspose2d(256, 128, kernel_size=(4, 4), stride=(2, 2), padding=(1, 1))\n",
       "      (7): BatchNorm2d(128, eps=1e-05, momentum=0.1, affine=True, track_running_stats=True)\n",
       "      (8): PReLU(num_parameters=1)\n",
       "      (9): ConvTranspose2d(128, 128, kernel_size=(4, 4), stride=(2, 2), padding=(1, 1))\n",
       "      (10): BatchNorm2d(128, eps=1e-05, momentum=0.1, affine=True, track_running_stats=True)\n",
       "      (11): PReLU(num_parameters=1)\n",
       "      (12): ConvTranspose2d(128, 64, kernel_size=(4, 4), stride=(2, 2), padding=(1, 1))\n",
       "      (13): BatchNorm2d(64, eps=1e-05, momentum=0.1, affine=True, track_running_stats=True)\n",
       "      (14): PReLU(num_parameters=1)\n",
       "      (15): ConvTranspose2d(64, 64, kernel_size=(4, 4), stride=(2, 2), padding=(1, 1))\n",
       "      (16): BatchNorm2d(64, eps=1e-05, momentum=0.1, affine=True, track_running_stats=True)\n",
       "      (17): PReLU(num_parameters=1)\n",
       "      (18): ConvTranspose2d(64, 32, kernel_size=(4, 4), stride=(2, 2), padding=(1, 1))\n",
       "      (19): BatchNorm2d(32, eps=1e-05, momentum=0.1, affine=True, track_running_stats=True)\n",
       "      (20): PReLU(num_parameters=1)\n",
       "      (21): ConvTranspose2d(32, 1, kernel_size=(4, 4), stride=(2, 2), padding=(1, 1))\n",
       "      (22): Sigmoid()\n",
       "    )\n",
       "  )\n",
       "  (encoder): Encoder_Conv_VAE_new_dSprites(\n",
       "    (conv_layers): Sequential(\n",
       "      (0): Conv2d(1, 32, kernel_size=(4, 4), stride=(2, 2), padding=(1, 1))\n",
       "      (1): BatchNorm2d(32, eps=1e-05, momentum=0.1, affine=True, track_running_stats=True)\n",
       "      (2): PReLU(num_parameters=1)\n",
       "      (3): Conv2d(32, 32, kernel_size=(4, 4), stride=(2, 2), padding=(1, 1))\n",
       "      (4): BatchNorm2d(32, eps=1e-05, momentum=0.1, affine=True, track_running_stats=True)\n",
       "      (5): PReLU(num_parameters=1)\n",
       "      (6): Conv2d(32, 64, kernel_size=(4, 4), stride=(2, 2), padding=(1, 1))\n",
       "      (7): BatchNorm2d(64, eps=1e-05, momentum=0.1, affine=True, track_running_stats=True)\n",
       "      (8): PReLU(num_parameters=1)\n",
       "      (9): Conv2d(64, 128, kernel_size=(4, 4), stride=(2, 2), padding=(1, 1))\n",
       "      (10): BatchNorm2d(128, eps=1e-05, momentum=0.1, affine=True, track_running_stats=True)\n",
       "      (11): PReLU(num_parameters=1)\n",
       "      (12): Conv2d(128, 128, kernel_size=(4, 4), stride=(2, 2), padding=(1, 1))\n",
       "      (13): BatchNorm2d(128, eps=1e-05, momentum=0.1, affine=True, track_running_stats=True)\n",
       "      (14): PReLU(num_parameters=1)\n",
       "      (15): Conv2d(128, 256, kernel_size=(4, 4), stride=(2, 2), padding=(1, 1))\n",
       "      (16): BatchNorm2d(256, eps=1e-05, momentum=0.1, affine=True, track_running_stats=True)\n",
       "      (17): PReLU(num_parameters=1)\n",
       "      (18): Conv2d(256, 256, kernel_size=(4, 4), stride=(2, 2), padding=(1, 1))\n",
       "      (19): BatchNorm2d(256, eps=1e-05, momentum=0.1, affine=True, track_running_stats=True)\n",
       "      (20): PReLU(num_parameters=1)\n",
       "      (21): Conv2d(256, 512, kernel_size=(2, 2), stride=(1, 1))\n",
       "      (22): BatchNorm2d(512, eps=1e-05, momentum=0.1, affine=True, track_running_stats=True)\n",
       "      (23): PReLU(num_parameters=1)\n",
       "    )\n",
       "    (lin): Sequential(\n",
       "      (0): Linear(in_features=512, out_features=256, bias=True)\n",
       "      (1): BatchNorm1d(256, eps=1e-05, momentum=0.1, affine=True, track_running_stats=True)\n",
       "      (2): PReLU(num_parameters=1)\n",
       "    )\n",
       "    (embedding): Linear(in_features=256, out_features=10, bias=True)\n",
       "    (log_var): Linear(in_features=256, out_features=10, bias=True)\n",
       "  )\n",
       ")"
      ]
     },
     "execution_count": 33,
     "metadata": {},
     "output_type": "execute_result"
    }
   ],
   "source": [
    "from pythae.models import AutoModel\n",
    "\n",
    "# model_rec = AutoModel.load_from_folder(os.path.join('conv_vae_new_dSprites_v1', last_training, 'final_model'))\n",
    "model_rec = AutoModel.load_from_folder(os.path.join('conv_vae_new_dSprites_v2', last_training, 'checkpoint_epoch_6'))\n",
    "model_rec"
   ]
  },
  {
   "cell_type": "code",
   "execution_count": 27,
   "id": "382648ad-d3c1-4c2f-b68a-d333a45fa1cf",
   "metadata": {},
   "outputs": [],
   "source": [
    "from pythae.samplers import NormalSampler\n",
    "\n",
    "\n",
    "sampler = NormalSampler(\n",
    "    model=model_rec\n",
    ")\n",
    "gen_data = sampler.sample(\n",
    "    num_samples=25\n",
    ")"
   ]
  },
  {
   "cell_type": "code",
   "execution_count": 34,
   "id": "8be09b84-bf5d-4575-a75f-1dfec91f84c1",
   "metadata": {},
   "outputs": [
    {
     "data": {
      "image/png": "[encoded data removed]",
      "text/plain": [
       "<Figure size 720x720 with 25 Axes>"
      ]
     },
     "metadata": {
      "needs_background": "light"
     },
     "output_type": "display_data"
    }
   ],
   "source": [
    "import matplotlib.pyplot as plt\n",
    "\n",
    "fig, axes = plt.subplots(nrows=5, ncols=5, figsize=(10, 10))\n",
    "\n",
    "for i in range(5):\n",
    "    for j in range(5):\n",
    "        axes[i][j].imshow(gen_data[i*5 +j].cpu().reshape(256, 256), cmap='gray')\n",
    "        axes[i][j].axis('off')\n",
    "plt.tight_layout(pad=0.)"
   ]
  },
  {
   "cell_type": "code",
   "execution_count": null,
   "id": "8f571a2a-7a5f-47f8-a35b-fbb7cbcbb719",
   "metadata": {},
   "outputs": [],
   "source": []
  }
 ],
 "metadata": {
  "kernelspec": {
   "display_name": "Python 3 (ipykernel)",
   "language": "python",
   "name": "python3"
  },
  "language_info": {
   "codemirror_mode": {
    "name": "ipython",
    "version": 3
   },
   "file_extension": ".py",
   "mimetype": "text/x-python",
   "name": "python",
   "nbconvert_exporter": "python",
   "pygments_lexer": "ipython3",
   "version": "3.10.12"
  }
 },
 "nbformat": 4,
 "nbformat_minor": 5
}
